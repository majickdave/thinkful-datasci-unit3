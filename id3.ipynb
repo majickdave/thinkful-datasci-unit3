{
 "cells": [
  {
   "cell_type": "markdown",
   "metadata": {},
   "source": [
    "Let's say we have 20 students, and we're trying to classify them as male and female. The only attribute we have is whether their height is tall, medium, or short. Of the 20 students, 12 are boys with and 8 are girls. Of the 12 boys, 4 are tall, 6 are medium and 2 are short. Of the 8 girls, 1 is tall, 2 are medium, and 5 are short.\n",
    "\n",
    "Use the space below to calculate the entropy of the other criteria, for we asked whether the students were tall or medium."
   ]
  },
  {
   "cell_type": "markdown",
   "metadata": {},
   "source": [
    "$$ P(tall) * H(tall) + P(not\\_tall) * H(not\\_tall) = entropytall $$\n",
    "\n",
    "$$ P(med) * H(med) + P(not\\_med) * H(not\\_med) = entropymed $$"
   ]
  },
  {
   "cell_type": "code",
   "execution_count": 15,
   "metadata": {},
   "outputs": [
    {
     "name": "stdout",
     "output_type": "stream",
     "text": [
      "H_tall: 0.9280757477080679\n",
      "H_medium: 0.9245112497836532\n"
     ]
    }
   ],
   "source": [
    "from math import log2 as log2\n",
    "\n",
    "H_tall = (4/5 * log2(1/(4/5))) + (1/5 * log2(1/(1/5)))\n",
    "H_not_tall = (8/15 * log2(1/(8/15))) + (7/15 * log2(1/(7/15)))\n",
    "\n",
    "entropy_tall = 5/20 * H_tall + 15/20 * H_not_tall\n",
    "\n",
    "H_med = (6/8 * log2(1/(6/8))) + (2/8 * log2(1/(2/8)))\n",
    "H_not_med = (6/12 * log2(1/(6/12))) + (6/12 * log2(1/(6/12)))\n",
    "\n",
    "entropy_med = 8/20 * H_med + 12/20 * H_not_med\n",
    "\n",
    "print(\"H_tall:\", entropy_tall)\n",
    "print(\"H_medium:\", entropy_med)"
   ]
  },
  {
   "cell_type": "code",
   "execution_count": null,
   "metadata": {},
   "outputs": [],
   "source": []
  }
 ],
 "metadata": {
  "kernelspec": {
   "display_name": "thinkful-py3",
   "language": "python",
   "name": "thinkful-py3"
  },
  "language_info": {
   "codemirror_mode": {
    "name": "ipython",
    "version": 3
   },
   "file_extension": ".py",
   "mimetype": "text/x-python",
   "name": "python",
   "nbconvert_exporter": "python",
   "pygments_lexer": "ipython3",
   "version": "3.6.5"
  }
 },
 "nbformat": 4,
 "nbformat_minor": 2
}
